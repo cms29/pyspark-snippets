{
 "cells": [
  {
   "cell_type": "markdown",
   "id": "839f8f56",
   "metadata": {},
   "source": [
    "### spark-sql   "
   ]
  },
  {
   "cell_type": "code",
   "execution_count": null,
   "id": "9920d6bc",
   "metadata": {},
   "outputs": [
    {
     "name": "stderr",
     "output_type": "stream",
     "text": [
      "25/08/30 13:20:10 WARN Utils: Your hostname, DESKTOP-PFNTFJ1 resolves to a loopback address: 127.0.1.1; using 10.255.255.254 instead (on interface lo)\n",
      "25/08/30 13:20:10 WARN Utils: Set SPARK_LOCAL_IP if you need to bind to another address\n",
      "25/08/30 13:20:12 WARN NativeCodeLoader: Unable to load native-hadoop library for your platform... using builtin-java classes where applicable\n",
      "Using Spark's default log4j profile: org/apache/spark/log4j-defaults.properties\n",
      "Setting default log level to \"WARN\".\n",
      "To adjust logging level use sc.setLogLevel(newLevel). For SparkR, use setLogLevel(newLevel).\n"
     ]
    },
    {
     "name": "stdout",
     "output_type": "stream",
     "text": [
      "spark.rdd.compress: True\n",
      "spark.app.name: PySpark Handling Nulls Practice\n",
      "spark.app.id: local-1756560014825\n",
      "spark.serializer.objectStreamReset: 100\n",
      "spark.master: local[*]\n",
      "spark.submit.pyFiles: \n",
      "spark.executor.id: driver\n",
      "spark.submit.deployMode: client\n",
      "spark.app.startTime: 1756560013393\n",
      "spark.driver.host: 10.255.255.254\n",
      "spark.ui.showConsoleProgress: true\n",
      "spark.driver.port: 37661\n",
      "Spark Job URL: http://10.255.255.254:4040\n"
     ]
    }
   ],
   "source": [
    "import findspark\n",
    "findspark.init(spark_home=\"/home/prabhakar/mybin/spark-3.0.2-bin-hadoop2.7-hive1.2\")\n",
    "\n",
    "\n",
    "from pyspark.sql import SparkSession\n",
    "spark = SparkSession.builder.appName(\"PySpark Handling Nulls Practice\").getOrCreate()\n",
    "\n",
    "\n",
    "configs = spark.sparkContext.getConf().getAll()\n",
    "for key, value in configs:\n",
    "    print(f\"{key}: {value}\")\n",
    "\n",
    "# Get the Spark UI URL\n",
    "spark_ui_url = spark.sparkContext.uiWebUrl\n",
    "\n",
    "print(f\"Spark Job URL: {spark_ui_url}\")"
   ]
  },
  {
   "cell_type": "code",
   "execution_count": null,
   "id": "1483ec8c",
   "metadata": {},
   "outputs": [
    {
     "name": "stdout",
     "output_type": "stream",
     "text": [
      "Initial DataFrame:\n"
     ]
    },
    {
     "name": "stderr",
     "output_type": "stream",
     "text": [
      "                                                                                \r"
     ]
    },
    {
     "name": "stdout",
     "output_type": "stream",
     "text": [
      "+----------+--------+-----+\n",
      "|      date|category|value|\n",
      "+----------+--------+-----+\n",
      "|2025-08-01|       A|   10|\n",
      "|2025-08-01|       A|   15|\n",
      "|2025-08-01|       A|   20|\n",
      "|2025-08-01|       B|    5|\n",
      "|2025-08-01|       B|   30|\n",
      "|2025-08-02|       C|   25|\n",
      "|2025-08-02|       C|   40|\n",
      "|2025-08-02|       D|   50|\n",
      "|2025-08-02|       E|   60|\n",
      "|2025-08-03|       A|   70|\n",
      "|2025-08-03|       F|   80|\n",
      "|2025-08-03|       G|   90|\n",
      "|2025-08-03|       H|  100|\n",
      "+----------+--------+-----+\n",
      "\n",
      "Number of partitions = 8\n",
      "Repartitioned DataFrame:\n",
      "Partitions = 6\n",
      "Coalesced DataFrame:\n",
      "Partitions = 2\n"
     ]
    },
    {
     "name": "stderr",
     "output_type": "stream",
     "text": [
      "                                                                                \r"
     ]
    }
   ],
   "source": [
    "\n",
    "from pyspark.sql import functions as F\n",
    "\n",
    "# 2. Create sample data (simulate skew + multiple partitions)\n",
    "data = [\n",
    "    (\"2025-08-01\", \"A\", 10),\n",
    "    (\"2025-08-01\", \"A\", 15),\n",
    "    (\"2025-08-01\", \"A\", 20),\n",
    "    (\"2025-08-01\", \"B\", 5),\n",
    "    (\"2025-08-01\", \"B\", 30),\n",
    "    (\"2025-08-02\", \"C\", 25),\n",
    "    (\"2025-08-02\", \"C\", 40),\n",
    "    (\"2025-08-02\", \"D\", 50),\n",
    "    (\"2025-08-02\", \"E\", 60),\n",
    "    (\"2025-08-03\", \"A\", 70),\n",
    "    (\"2025-08-03\", \"F\", 80),\n",
    "    (\"2025-08-03\", \"G\", 90),\n",
    "    (\"2025-08-03\", \"H\", 100),\n",
    "]\n",
    "\n",
    "# 3. Define schema and create DataFrame\n",
    "df = spark.createDataFrame(data, [\"date\", \"category\", \"value\"])\n",
    "\n",
    "print(\"InitVial DataFrame:\")\n",
    "df.show()\n",
    "\n",
    "# 4. Check number of partitions\n",
    "print(\"Number of partitions =\", df.rdd.getNumPartitions())\n",
    "\n",
    "# 5. Repartition example (increase parallelism)\n",
    "df_repart = df.repartition(6, \"date\")  # shuffle by \"date\"\n",
    "print(\"Repartitioned DataFrame:\")\n",
    "print(\"Partitions =\", df_repart.rdd.getNumPartitions())\n",
    "\n",
    "# 6. Coalesce example (reduce parallelism, no shuffle)\n",
    "df_coalesce = df.coalesce(2)\n",
    "print(\"Coalesced DataFrame:\")\n",
    "print(\"Partitions =\", df_coalesce.rdd.getNumPartitions())\n",
    "\n",
    "# 7. Writing with controlled file counts\n",
    "# (writes only 1 file per date partition)\n",
    "df_repart.write.mode(\"overwrite\").partitionBy(\"date\").parquet(\"output/repartitioned\")\n"
   ]
  },
  {
   "cell_type": "code",
   "execution_count": 4,
   "id": "73ae0f3f",
   "metadata": {},
   "outputs": [],
   "source": [
    "df.createOrReplaceTempView(\"modifiedtable\" )"
   ]
  },
  {
   "cell_type": "code",
   "execution_count": 7,
   "id": "8cb93118",
   "metadata": {},
   "outputs": [
    {
     "data": {
      "text/plain": [
       "DataFrame[date: string]"
      ]
     },
     "execution_count": 7,
     "metadata": {},
     "output_type": "execute_result"
    }
   ],
   "source": [
    "spark.sql(\"select date from modifiedtable\")"
   ]
  },
  {
   "cell_type": "code",
   "execution_count": null,
   "id": "8d5bbe23",
   "metadata": {},
   "outputs": [
    {
     "name": "stdout",
     "output_type": "stream",
     "text": [
      "+----------+--------+-----+\n",
      "|      date|category|value|\n",
      "+----------+--------+-----+\n",
      "|2025-08-01|       A|   10|\n",
      "|2025-08-01|       A|   15|\n",
      "|2025-08-01|       A|   20|\n",
      "|2025-08-01|       B|    5|\n",
      "|2025-08-01|       B|   30|\n",
      "|2025-08-02|       C|   25|\n",
      "|2025-08-02|       C|   40|\n",
      "|2025-08-02|       D|   50|\n",
      "|2025-08-02|       E|   60|\n",
      "|2025-08-03|       A|   70|\n",
      "|2025-08-03|       F|   80|\n",
      "|2025-08-03|       G|   90|\n",
      "|2025-08-03|       H|  100|\n",
      "+----------+--------+-----+\n",
      "\n",
      "root\n",
      " |-- date: string (nullable = true)\n",
      " |-- category: string (nullable = true)\n",
      " |-- value: long (nullable = true)\n",
      "\n",
      "+----------+\n",
      "|      date|\n",
      "+----------+\n",
      "|2025-08-01|\n",
      "|2025-08-01|\n",
      "|2025-08-01|\n",
      "|2025-08-01|\n",
      "|2025-08-01|\n",
      "|2025-08-02|\n",
      "|2025-08-02|\n",
      "|2025-08-02|\n",
      "|2025-08-02|\n",
      "|2025-08-03|\n",
      "|2025-08-03|\n",
      "|2025-08-03|\n",
      "|2025-08-03|\n",
      "+----------+\n",
      "\n",
      "root\n",
      " |-- date: string (nullable = true)\n",
      "\n",
      "+----------+\n",
      "|      date|\n",
      "+----------+\n",
      "|2025-08-01|\n",
      "|2025-08-01|\n",
      "|2025-08-01|\n",
      "|2025-08-01|\n",
      "|2025-08-01|\n",
      "|2025-08-02|\n",
      "|2025-08-02|\n",
      "|2025-08-02|\n",
      "|2025-08-02|\n",
      "|2025-08-03|\n",
      "|2025-08-03|\n",
      "|2025-08-03|\n",
      "|2025-08-03|\n",
      "+----------+\n",
      "\n"
     ]
    }
   ],
   "source": [
    "spark.sql(\"select * from modifiedtable\").show()\n",
    "spark.sql(\"select * from modifiedtable\").printSchema()\n",
    "\n",
    "prabharkar_sql = spark.sql(\"select date from modifiedtable\")\n",
    "prabharkar_sql.show()\n",
    "prabharkar_sql.printSchema()\n",
    "\n",
    "# prabharkar_sql.join(....)\n",
    "\n",
    "prabharkar_sql.createOrReplaceTempView(\"one_more_modified\")\n",
    "\n",
    "spark.sql(\"select * from one_more_modified\").show()\n"
   ]
  },
  {
   "cell_type": "markdown",
   "id": "5316294f",
   "metadata": {},
   "source": [
    "### Spark sql UDF"
   ]
  },
  {
   "cell_type": "code",
   "execution_count": null,
   "id": "6d738c61",
   "metadata": {},
   "outputs": [],
   "source": []
  },
  {
   "cell_type": "code",
   "execution_count": 20,
   "id": "0a5e385f",
   "metadata": {},
   "outputs": [
    {
     "name": "stderr",
     "output_type": "stream",
     "text": [
      "25/08/30 14:22:39 WARN SimpleFunctionRegistry: The function square_of_value_udf replaced a previously registered function.\n"
     ]
    },
    {
     "name": "stdout",
     "output_type": "stream",
     "text": [
      "+-----+--------------------------+\n",
      "|value|square_of_value_udf(value)|\n",
      "+-----+--------------------------+\n",
      "|   10|                       100|\n",
      "|   15|                       225|\n",
      "|   20|                       400|\n",
      "|    5|                        25|\n",
      "|   30|                       900|\n",
      "|   25|                       625|\n",
      "|   40|                      1600|\n",
      "|   50|                      2500|\n",
      "|   60|                      3600|\n",
      "|   70|                      4900|\n",
      "|   80|                      6400|\n",
      "|   90|                      8100|\n",
      "|  100|                     10000|\n",
      "+-----+--------------------------+\n",
      "\n"
     ]
    }
   ],
   "source": [
    "def square_of_value(value):\n",
    "   return value * value\n",
    "\n",
    "# Registering the udf\n",
    "# Higher Order Functions ==> Functions which take another function as arguments\n",
    "spark.udf.register(\"square_of_value_udf\",square_of_value)\n",
    "\n",
    "spark.sql(\"select value, square_of_value_udf(value) from modifiedtable\").show()"
   ]
  },
  {
   "cell_type": "markdown",
   "id": "79a9e2cb",
   "metadata": {},
   "source": [
    "### Using SQL Functions in Dataframes"
   ]
  },
  {
   "cell_type": "code",
   "execution_count": null,
   "id": "933fd93d",
   "metadata": {},
   "outputs": [
    {
     "name": "stdout",
     "output_type": "stream",
     "text": [
      "+----------+--------+-----+\n",
      "|      date|category|value|\n",
      "+----------+--------+-----+\n",
      "|2025-08-01|       A|   10|\n",
      "|2025-08-01|       A|   15|\n",
      "|2025-08-01|       A|   20|\n",
      "|2025-08-01|       B|    5|\n",
      "|2025-08-01|       B|   30|\n",
      "|2025-08-02|       C|   25|\n",
      "|2025-08-02|       C|   40|\n",
      "|2025-08-02|       D|   50|\n",
      "|2025-08-02|       E|   60|\n",
      "|2025-08-03|       A|   70|\n",
      "|2025-08-03|       F|   80|\n",
      "|2025-08-03|       G|   90|\n",
      "|2025-08-03|       H|  100|\n",
      "+----------+--------+-----+\n",
      "\n",
      "+----------+--------+-----+----------------+\n",
      "|      date|category|value|lowered_category|\n",
      "+----------+--------+-----+----------------+\n",
      "|2025-08-01|       A|   10|               a|\n",
      "|2025-08-01|       A|   15|               a|\n",
      "|2025-08-01|       A|   20|               a|\n",
      "|2025-08-01|       B|    5|               b|\n",
      "|2025-08-01|       B|   30|               b|\n",
      "|2025-08-02|       C|   25|               c|\n",
      "|2025-08-02|       C|   40|               c|\n",
      "|2025-08-02|       D|   50|               d|\n",
      "|2025-08-02|       E|   60|               e|\n",
      "|2025-08-03|       A|   70|               a|\n",
      "|2025-08-03|       F|   80|               f|\n",
      "|2025-08-03|       G|   90|               g|\n",
      "|2025-08-03|       H|  100|               h|\n",
      "+----------+--------+-----+----------------+\n",
      "\n",
      "<class 'pyspark.sql.dataframe.DataFrame'>\n",
      "<class 'NoneType'>\n",
      "+----------+--------+-----+----------------+--------------+\n",
      "|      date|category|value|lowered_category|upper_category|\n",
      "+----------+--------+-----+----------------+--------------+\n",
      "|2025-08-01|       A|   10|               a|             A|\n",
      "|2025-08-01|       A|   15|               a|             A|\n",
      "|2025-08-01|       A|   20|               a|             A|\n",
      "|2025-08-01|       B|    5|               b|             B|\n",
      "|2025-08-01|       B|   30|               b|             B|\n",
      "|2025-08-02|       C|   25|               c|             C|\n",
      "|2025-08-02|       C|   40|               c|             C|\n",
      "|2025-08-02|       D|   50|               d|             D|\n",
      "|2025-08-02|       E|   60|               e|             E|\n",
      "|2025-08-03|       A|   70|               a|             A|\n",
      "|2025-08-03|       F|   80|               f|             F|\n",
      "|2025-08-03|       G|   90|               g|             G|\n",
      "|2025-08-03|       H|  100|               h|             H|\n",
      "+----------+--------+-----+----------------+--------------+\n",
      "\n"
     ]
    }
   ],
   "source": [
    "df.show()\n",
    "\n",
    "# Spark Datagrame DSL\n",
    "df2 = df.withColumn(\"lowered_category\", F.lower(df[\"category\"]))\n",
    "\n",
    "# df3 = df.withColumn(\"lowered_category\", F.lower(df[\"category\"])).show()\n",
    "# print(type(df2))\n",
    "# print(type(df3))\n",
    "\n",
    "# By Using SQL function in Dataframe DSL\n",
    "df2.withColumn(\"upper_category\", F.expr(\"upper(lowered_category)\")).show()\n"
   ]
  }
 ],
 "metadata": {
  "kernelspec": {
   "display_name": "3.9.0",
   "language": "python",
   "name": "python3"
  },
  "language_info": {
   "codemirror_mode": {
    "name": "ipython",
    "version": 3
   },
   "file_extension": ".py",
   "mimetype": "text/x-python",
   "name": "python",
   "nbconvert_exporter": "python",
   "pygments_lexer": "ipython3",
   "version": "3.9.0"
  }
 },
 "nbformat": 4,
 "nbformat_minor": 5
}
